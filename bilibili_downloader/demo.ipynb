{
 "cells": [
  {
   "cell_type": "code",
   "execution_count": null,
   "metadata": {},
   "outputs": [],
   "source": [
    "import argparse\n",
    "from downloader import BiliDownloader\n",
    "\n",
    "\n",
    "# ---------------下载路径 & Cookie-----------------\n",
    "DIRNAME = 'E:/downloads'\n",
    "COOKIE = 'SESSDATA=3f5081db%2C1b02652790%2C8c420*41'\n",
    "# --------------------------------------------------\n",
    "    \n",
    "url = 'https://www.bilibili.com/video/BV13b411p7nC'\n",
    "page = [1, 2, 3]\n",
    "quality = 3\n",
    "bili_downloader = BiliDownloader(url, DIRNAME, COOKIE)\n",
    "bili_downloader(page, quality)"
   ]
  },
  {
   "cell_type": "code",
   "execution_count": null,
   "metadata": {},
   "outputs": [],
   "source": []
  }
 ],
 "metadata": {
  "kernelspec": {
   "display_name": "Python [conda env:pytorch]",
   "language": "python",
   "name": "conda-env-pytorch-py"
  },
  "language_info": {
   "codemirror_mode": {
    "name": "ipython",
    "version": 3
   },
   "file_extension": ".py",
   "mimetype": "text/x-python",
   "name": "python",
   "nbconvert_exporter": "python",
   "pygments_lexer": "ipython3",
   "version": "3.7.6"
  }
 },
 "nbformat": 4,
 "nbformat_minor": 2
}

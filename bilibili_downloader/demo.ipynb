{
 "cells": [
  {
   "cell_type": "code",
   "execution_count": 1,
   "metadata": {},
   "outputs": [
    {
     "name": "stdout",
     "output_type": "stream",
     "text": [
      "Downloading video(720P):\n",
      "【800P/BDRip】黑客帝国短片集 THE ANIMATRIX 2003----[1, 2, 3]\n",
      "    100.0%\n",
      "    Done: E:/downloads\\video/【800P BDRip】黑客帝国短片集 THE ANIMATRIX 2003--720P\\2 二次复兴 第一部 THE SECOND RENAISSANCE PART Ⅰ.flv\n",
      "\n",
      "    100.0%\n",
      "    Done: E:/downloads\\video/【800P BDRip】黑客帝国短片集 THE ANIMATRIX 2003--720P\\1 冥王号的最后一次飞行 FINAL FLIGHT OF THE OSIRIS.flv\n",
      "\n",
      "    100.0%\n",
      "    Done: E:/downloads\\video/【800P BDRip】黑客帝国短片集 THE ANIMATRIX 2003--720P\\3 二次复兴 第二部 THE SECOND RENAISSANCE PART ⅠⅠ.flv\n",
      "\n",
      "\n",
      "All done!\n"
     ]
    }
   ],
   "source": [
    "import argparse\n",
    "from downloader import BiliDownloader\n",
    "\n",
    "\n",
    "# ---------------下载路径 & SESSDATA-----------------\n",
    "DIRNAME = 'E:/downloads'\n",
    "COOKIE = 'SESSDATA=3f5681db%2C1602650790%2C8c420*41'\n",
    "# --------------------------------------------------\n",
    "    \n",
    "url = 'https://www.bilibili.com/video/BV13b411p7nC'\n",
    "page = [1, 2, 3]\n",
    "quality = 3\n",
    "bili_downloader = BiliDownloader(url, DIRNAME, COOKIE)\n",
    "bili_downloader(page, quality)"
   ]
  },
  {
   "cell_type": "code",
   "execution_count": null,
   "metadata": {},
   "outputs": [],
   "source": []
  }
 ],
 "metadata": {
  "kernelspec": {
   "display_name": "Python [conda env:pytorch]",
   "language": "python",
   "name": "conda-env-pytorch-py"
  },
  "language_info": {
   "codemirror_mode": {
    "name": "ipython",
    "version": 3
   },
   "file_extension": ".py",
   "mimetype": "text/x-python",
   "name": "python",
   "nbconvert_exporter": "python",
   "pygments_lexer": "ipython3",
   "version": "3.7.6"
  }
 },
 "nbformat": 4,
 "nbformat_minor": 2
}

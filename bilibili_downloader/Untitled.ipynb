{
 "cells": [
  {
   "cell_type": "code",
   "execution_count": 6,
   "metadata": {},
   "outputs": [
    {
     "name": "stdout",
     "output_type": "stream",
     "text": [
      "\n",
      "Invalid Cookie! You need use or update the VIP COOKIE!\n"
     ]
    },
    {
     "ename": "SystemExit",
     "evalue": "1",
     "output_type": "error",
     "traceback": [
      "An exception has occurred, use %tb to see the full traceback.\n",
      "\u001b[1;31mSystemExit\u001b[0m\u001b[1;31m:\u001b[0m 1\n"
     ]
    }
   ],
   "source": [
    "import argparse\n",
    "from downloader import BiliDownloader\n",
    "from multiprocessing import cpu_count\n",
    "\n",
    "DIRNAME = 'E:/downloads'\n",
    "COOKIE = 'SESSDATA=3f5681db%2C1602650790%2C8c420*41'\n",
    "\n",
    "    \n",
    "url = 'https://www.bilibili.com/bangumi/play/ep112974?from=search&seid=6220004519041998476'\n",
    "bili_downloader = BiliDownloader(url, DIRNAME, COOKIE, 4)\n",
    "info = bili_downloader(0, 5, 'info')"
   ]
  },
  {
   "cell_type": "code",
   "execution_count": null,
   "metadata": {},
   "outputs": [],
   "source": []
  }
 ],
 "metadata": {
  "kernelspec": {
   "display_name": "Python [conda env:pytorch]",
   "language": "python",
   "name": "conda-env-pytorch-py"
  },
  "language_info": {
   "codemirror_mode": {
    "name": "ipython",
    "version": 3
   },
   "file_extension": ".py",
   "mimetype": "text/x-python",
   "name": "python",
   "nbconvert_exporter": "python",
   "pygments_lexer": "ipython3",
   "version": "3.7.6"
  }
 },
 "nbformat": 4,
 "nbformat_minor": 2
}
